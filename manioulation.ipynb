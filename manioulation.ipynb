{
  "cells": [
    {
      "cell_type": "markdown",
      "id": "e913c991",
      "metadata": {
        "id": "e913c991"
      },
      "source": [
        "# TP1: Manipulations simples\n"
      ]
    },
    {
      "cell_type": "markdown",
      "id": "d4e00e57",
      "metadata": {
        "id": "d4e00e57"
      },
      "source": [
        "L'objectif de ce premier TP est de vous permettre de faire des manipulations simples d'images (lecture, affichage,...) et de maîtriser les notions d'échantilonnage et de quantification."
      ]
    },
    {
      "cell_type": "markdown",
      "id": "582f7066",
      "metadata": {
        "id": "582f7066"
      },
      "source": [
        "## A) Lecture d'images\n"
      ]
    },
    {
      "cell_type": "markdown",
      "id": "4034174c",
      "metadata": {
        "id": "4034174c"
      },
      "source": [
        "1) Avec la librairie opencv, lisez l'image \"barbara.jpg\".\n"
      ]
    },
    {
      "cell_type": "code",
      "execution_count": null,
      "id": "a8ff114f",
      "metadata": {
        "id": "a8ff114f",
        "outputId": "6f4815b9-680d-4e02-8b18-99c4e1fab440",
        "colab": {
          "base_uri": "https://localhost:8080/"
        }
      },
      "outputs": [
        {
          "output_type": "stream",
          "name": "stdout",
          "text": [
            "package imported\n"
          ]
        }
      ],
      "source": [
        "import cv2\n",
        "import matplotlib.pyplot as plt\n",
        "print('package imported')\n",
        "img = cv2.imread('barbara.jpg')\n",
        "#cv2.imshow(\"barbara\",img)\n",
        "#cv2.waitKey(0)"
      ]
    },
    {
      "cell_type": "markdown",
      "id": "20e70dd7",
      "metadata": {
        "id": "20e70dd7"
      },
      "source": [
        "2)\tVérifiez l'image a été lue correctement en utilisant la fonction « print ». Si l’image n’a pas été lue, la fonction « print » va renvoyer ‘None’."
      ]
    },
    {
      "cell_type": "code",
      "execution_count": null,
      "id": "2515b14b",
      "metadata": {
        "id": "2515b14b",
        "outputId": "2e02860d-6467-4784-b955-111254cc207c",
        "colab": {
          "base_uri": "https://localhost:8080/"
        }
      },
      "outputs": [
        {
          "output_type": "stream",
          "name": "stdout",
          "text": [
            "None\n"
          ]
        }
      ],
      "source": [
        "print(img)"
      ]
    },
    {
      "cell_type": "code",
      "source": [
        "from google.colab import drive\n",
        "drive.mount('/content/drive')"
      ],
      "metadata": {
        "id": "H1iMf4_OCIzG"
      },
      "id": "H1iMf4_OCIzG",
      "execution_count": null,
      "outputs": []
    },
    {
      "cell_type": "markdown",
      "id": "e2466aad",
      "metadata": {
        "id": "e2466aad"
      },
      "source": [
        "3)\tA l’aide de la fonction « shape », affichez les dimensions de l’image."
      ]
    },
    {
      "cell_type": "code",
      "execution_count": null,
      "id": "ed0290a5",
      "metadata": {
        "id": "ed0290a5",
        "outputId": "cc173dc9-ec08-41b7-aa73-066f7dad7053",
        "colab": {
          "base_uri": "https://localhost:8080/"
        }
      },
      "outputs": [
        {
          "output_type": "execute_result",
          "data": {
            "text/plain": [
              "(510, 510, 3)"
            ]
          },
          "metadata": {},
          "execution_count": 17
        }
      ],
      "source": [
        "img.shape"
      ]
    },
    {
      "cell_type": "markdown",
      "id": "e1157eda",
      "metadata": {
        "id": "e1157eda"
      },
      "source": [
        "4) Définir la fonction plot_image(img,titre) qui affiche une image avec un titre et sans axes (utiliser la librairie pyplot de matplotlib). Puis, utiliser cette fonction pour afficher l'image Barbara."
      ]
    },
    {
      "cell_type": "code",
      "execution_count": null,
      "id": "8a553194",
      "metadata": {
        "id": "8a553194",
        "colab": {
          "base_uri": "https://localhost:8080/",
          "height": 130
        },
        "outputId": "b031177c-3d4e-4277-c374-3870c4b9b403"
      },
      "outputs": [
        {
          "output_type": "error",
          "ename": "IndentationError",
          "evalue": "ignored",
          "traceback": [
            "\u001b[0;36m  File \u001b[0;32m\"<ipython-input-16-979535ff6248>\"\u001b[0;36m, line \u001b[0;32m3\u001b[0m\n\u001b[0;31m    fig = plt.figure()\u001b[0m\n\u001b[0m    ^\u001b[0m\n\u001b[0;31mIndentationError\u001b[0m\u001b[0;31m:\u001b[0m unexpected indent\n"
          ]
        }
      ],
      "source": [
        "import matplotlib.pyplot as plt\n",
        "#def plot_image(imge,titre):\n",
        "  fig = plt.figure()\n",
        "  ax= fig.subplots()\n",
        "\n",
        "  ax.imshow(img)\n",
        "  plt.show()\n",
        "  #return plot_image\n",
        "\n",
        "#plot_image(img,barbara)\n"
      ]
    },
    {
      "cell_type": "markdown",
      "id": "0a40cfbd",
      "metadata": {
        "id": "0a40cfbd"
      },
      "source": [
        "5) L'image barbara est une image en couleurs qui peut être décomposée en 3 canaux Rouge, Vert et Bleu.\n",
        "Récupérez les 3 canaux dans les variables barbara_rouge, barbara_vert et barbara_bleu."
      ]
    },
    {
      "cell_type": "code",
      "execution_count": null,
      "id": "ff571e66",
      "metadata": {
        "id": "ff571e66"
      },
      "outputs": [],
      "source": [
        "\n"
      ]
    },
    {
      "cell_type": "markdown",
      "id": "TwnRnOx2B28w",
      "metadata": {
        "id": "TwnRnOx2B28w"
      },
      "source": [
        "6) Définir la fonction plot_image_gray(img,titre) qui affiche une image en niveaux de gris avec un titre et sans axes."
      ]
    },
    {
      "cell_type": "code",
      "execution_count": null,
      "id": "bJX67SdqCMIx",
      "metadata": {
        "id": "bJX67SdqCMIx"
      },
      "outputs": [],
      "source": [
        "\n"
      ]
    },
    {
      "cell_type": "markdown",
      "id": "81xgxWxjCWd7",
      "metadata": {
        "id": "81xgxWxjCWd7"
      },
      "source": [
        "7) Affichez dans un même plot l'image Barbara en couleur ainsi que chaque image en niveaux de gris représentant chacun des trois canaux (utiliser plt.subplot)"
      ]
    },
    {
      "cell_type": "code",
      "execution_count": null,
      "id": "6m_zoQoACjvx",
      "metadata": {
        "id": "6m_zoQoACjvx"
      },
      "outputs": [],
      "source": []
    },
    {
      "cell_type": "markdown",
      "id": "d3e810dd",
      "metadata": {
        "id": "d3e810dd"
      },
      "source": [
        "8) Convertissez l'image barbara en image en niveaux de gris et affichez la."
      ]
    },
    {
      "cell_type": "code",
      "execution_count": null,
      "id": "ed89040a",
      "metadata": {
        "id": "ed89040a"
      },
      "outputs": [],
      "source": []
    },
    {
      "cell_type": "markdown",
      "id": "7f7a4143",
      "metadata": {
        "id": "7f7a4143"
      },
      "source": [
        "9) Calculez le poids de l'image barbara en couleur. Vous multiplierez pour cela le nombre de bits nécessaires pour encoder un pixel par le nombre de pixels. (utiliser a.size et a.itemsize)"
      ]
    },
    {
      "cell_type": "code",
      "execution_count": null,
      "id": "bb7d1642",
      "metadata": {
        "id": "bb7d1642"
      },
      "outputs": [],
      "source": []
    },
    {
      "cell_type": "markdown",
      "id": "6252024f",
      "metadata": {
        "id": "6252024f"
      },
      "source": [
        "10) Calculez le poids de l'image barbara en niveaux de gris que vous avez calculée."
      ]
    },
    {
      "cell_type": "code",
      "execution_count": null,
      "id": "51f27f73",
      "metadata": {
        "id": "51f27f73"
      },
      "outputs": [],
      "source": []
    },
    {
      "cell_type": "markdown",
      "id": "73eb7202",
      "metadata": {
        "id": "73eb7202"
      },
      "source": [
        "11) Trouvez vous ce résultat logique? Commentez."
      ]
    },
    {
      "cell_type": "markdown",
      "id": "53f414a0",
      "metadata": {
        "id": "53f414a0"
      },
      "source": [
        "Vos commentaires"
      ]
    },
    {
      "cell_type": "markdown",
      "id": "b924474e",
      "metadata": {
        "id": "b924474e"
      },
      "source": [
        "12) Affichez la taille mémoire occupée par le fichier \"barbara.jpg\". Comparez le au poids de l'image barbara que vous avez calculé précédemment et commentez."
      ]
    },
    {
      "cell_type": "code",
      "execution_count": null,
      "id": "2cec83de",
      "metadata": {
        "id": "2cec83de"
      },
      "outputs": [],
      "source": []
    },
    {
      "cell_type": "markdown",
      "id": "c6906f45",
      "metadata": {
        "id": "c6906f45"
      },
      "source": [
        "Vos commentaires"
      ]
    },
    {
      "cell_type": "markdown",
      "id": "9d7fc8ee",
      "metadata": {
        "id": "9d7fc8ee"
      },
      "source": [
        "## B) Echantillonnage\n"
      ]
    },
    {
      "cell_type": "markdown",
      "id": "yP2g9ajszJVL",
      "metadata": {
        "id": "yP2g9ajszJVL"
      },
      "source": [
        "13) Divisez la taille de l'image par 2 en prenant un élément sur 2. Affichez la nouvelle image."
      ]
    },
    {
      "cell_type": "code",
      "execution_count": null,
      "id": "YirkTI9mzPhH",
      "metadata": {
        "id": "YirkTI9mzPhH"
      },
      "outputs": [],
      "source": []
    },
    {
      "cell_type": "markdown",
      "id": "cd5e6bb1",
      "metadata": {
        "id": "cd5e6bb1"
      },
      "source": [
        "14) Enchainez par un sous-echantillonnage par 4 puis par 8. Affichez l'image Barbara d'origine et les différentes versions réechantillonnées sur un même graphique."
      ]
    },
    {
      "cell_type": "code",
      "execution_count": null,
      "id": "8EgvS7JnxqRb",
      "metadata": {
        "id": "8EgvS7JnxqRb"
      },
      "outputs": [],
      "source": []
    },
    {
      "cell_type": "markdown",
      "id": "e71ef781",
      "metadata": {
        "id": "e71ef781"
      },
      "source": [
        "15) Que remarquez vous? Expliquez le phénomène."
      ]
    },
    {
      "cell_type": "markdown",
      "id": "fee9bff6",
      "metadata": {
        "id": "fee9bff6"
      },
      "source": [
        "Vos commentaires"
      ]
    },
    {
      "cell_type": "markdown",
      "id": "4475c430",
      "metadata": {
        "id": "4475c430"
      },
      "source": [
        "16) Affichez le poids de chacune des images réechantillonnées. Que remarquez vous?"
      ]
    },
    {
      "cell_type": "code",
      "execution_count": null,
      "id": "b153ad7a",
      "metadata": {
        "id": "b153ad7a"
      },
      "outputs": [],
      "source": []
    },
    {
      "cell_type": "markdown",
      "id": "33e7a8d2",
      "metadata": {
        "id": "33e7a8d2"
      },
      "source": [
        "Vos commentaires"
      ]
    },
    {
      "cell_type": "markdown",
      "id": "67a58b4f",
      "metadata": {
        "id": "67a58b4f"
      },
      "source": [
        "17) (Question Bonus) Affichez l'amplitude de la transformée de Fourier des images réechantillonnées. Proposez une méthode de traitement simple dans le domaine fréquentiel afin de réduire l'effet négatif du sous-échantillonnage."
      ]
    },
    {
      "cell_type": "code",
      "execution_count": null,
      "id": "e1eacbe1",
      "metadata": {
        "id": "e1eacbe1"
      },
      "outputs": [],
      "source": []
    },
    {
      "cell_type": "markdown",
      "id": "d877f3e1",
      "metadata": {
        "id": "d877f3e1"
      },
      "source": [
        "## C) Quantification\n"
      ]
    },
    {
      "cell_type": "markdown",
      "id": "8d20522e",
      "metadata": {
        "id": "8d20522e"
      },
      "source": [
        "18) Changez l'encodage de l'image barbara en niveaux de gris en la transformant en image encodée sur 8 bits si jamais l'image que vous avez transformée est en float."
      ]
    },
    {
      "cell_type": "code",
      "execution_count": null,
      "id": "5b98b67f",
      "metadata": {
        "id": "5b98b67f"
      },
      "outputs": [],
      "source": []
    },
    {
      "cell_type": "markdown",
      "id": "2aa25420",
      "metadata": {
        "id": "2aa25420"
      },
      "source": [
        "19) Effectuez une quantification de l'image sur 8 niveaux, puis sur 4 niveaux puis sur 2 niveaux et affichez les résultats sur un même graphique."
      ]
    },
    {
      "cell_type": "code",
      "execution_count": null,
      "id": "1c066438",
      "metadata": {
        "id": "1c066438"
      },
      "outputs": [],
      "source": []
    },
    {
      "cell_type": "markdown",
      "id": "G7_K8lX58c0x",
      "metadata": {
        "id": "G7_K8lX58c0x"
      },
      "source": [
        "20) Que Remarquez vous?"
      ]
    },
    {
      "cell_type": "markdown",
      "id": "5IutzASZ8kTt",
      "metadata": {
        "id": "5IutzASZ8kTt"
      },
      "source": []
    },
    {
      "cell_type": "markdown",
      "id": "6dnaicqV8lrF",
      "metadata": {
        "id": "6dnaicqV8lrF"
      },
      "source": [
        "21) Afin d'améliorer la qualité visuelle de l'image quantifiée, ajoutez de petites valeurs aléatoires à l'image d'origine avant la quantification. Vérifiez que le problème évoqué à la question précédente est résolu."
      ]
    },
    {
      "cell_type": "code",
      "execution_count": null,
      "id": "LpotMVoe8qTK",
      "metadata": {
        "id": "LpotMVoe8qTK"
      },
      "outputs": [],
      "source": []
    },
    {
      "cell_type": "markdown",
      "id": "Hn9tRofffw3e",
      "metadata": {
        "id": "Hn9tRofffw3e"
      },
      "source": [
        "22) (Question Bonus) Effectuez le sous-échantillonnage de l'image zone_plate.png et visulalisez l'effet aliasing dans le domaine spatial et fréquentiel"
      ]
    },
    {
      "cell_type": "code",
      "execution_count": null,
      "id": "8aceb7a3",
      "metadata": {
        "id": "8aceb7a3"
      },
      "outputs": [],
      "source": []
    }
  ],
  "metadata": {
    "colab": {
      "provenance": []
    },
    "kernelspec": {
      "display_name": "Python 3",
      "language": "python",
      "name": "python3"
    },
    "language_info": {
      "codemirror_mode": {
        "name": "ipython",
        "version": 3
      },
      "file_extension": ".py",
      "mimetype": "text/x-python",
      "name": "python",
      "nbconvert_exporter": "python",
      "pygments_lexer": "ipython3",
      "version": "3.8.8"
    }
  },
  "nbformat": 4,
  "nbformat_minor": 5
}